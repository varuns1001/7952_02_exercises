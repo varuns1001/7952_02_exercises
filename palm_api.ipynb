{
  "nbformat": 4,
  "nbformat_minor": 0,
  "metadata": {
    "colab": {
      "provenance": [],
      "include_colab_link": true
    },
    "kernelspec": {
      "name": "python3",
      "display_name": "Python 3"
    },
    "language_info": {
      "name": "python"
    }
  },
  "cells": [
    {
      "cell_type": "markdown",
      "metadata": {
        "id": "view-in-github",
        "colab_type": "text"
      },
      "source": [
        "<a href=\"https://colab.research.google.com/github/varuns1001/7952_02_exercises/blob/master/palm_api.ipynb\" target=\"_parent\"><img src=\"https://colab.research.google.com/assets/colab-badge.svg\" alt=\"Open In Colab\"/></a>"
      ]
    },
    {
      "cell_type": "code",
      "source": [
        "!git config --global user.name \"varun.singhal\"\n",
        "!git config --global user.email iamvsinghal@gmail.com"
      ],
      "metadata": {
        "id": "zH-wOZ46_fHZ"
      },
      "execution_count": 53,
      "outputs": []
    },
    {
      "cell_type": "code",
      "source": [
        "\n"
      ],
      "metadata": {
        "colab": {
          "base_uri": "https://localhost:8080/"
        },
        "id": "naCHEBwpA02f",
        "outputId": "a70252a7-9c51-4743-c698-c9e57e605a71"
      },
      "execution_count": 58,
      "outputs": [
        {
          "output_type": "stream",
          "name": "stdout",
          "text": [
            " sample_data   svc-ai-dev-poc.json  'tata steel news.csv'\n"
          ]
        }
      ]
    },
    {
      "cell_type": "code",
      "execution_count": null,
      "metadata": {
        "id": "w8d0AjLBXCk9"
      },
      "outputs": [],
      "source": [
        "!pip install google-cloud-aiplatform --upgrade --user\n",
        "\n",
        "from google.cloud import aiplatform\n",
        "aiplatform.init(project = 'tsl-ai-prod', location = \"asia-south1\")\n",
        "from google.colab import auth\n",
        "auth.authenticate_user()\n",
        "# Automatically restart kernel after installs so that your environment can access the new packages\n",
        "import IPython\n",
        "\n",
        "app = IPython.Application.instance()\n",
        "app.kernel.do_shutdown(True)\n",
        "from vertexai.preview.language_models import TextGenerationModel,\\\n",
        "                                            ChatModel,\\\n",
        "                                            InputOutputTextPair,\\\n",
        "                                            TextEmbeddingModel\n",
        "\n",
        "from IPython.display import display, Markdown\n",
        "import pandas as pd\n",
        "from sklearn.metrics.pairwise import cosine_similarity\n",
        "import seaborn as sns\n",
        "!gcloud config set project tsl-ai-prod\n",
        "generation_model = TextGenerationModel.from_pretrained(\"text-bison@001\")\n",
        "\n",
        "import vertexai\n",
        "vertexai.init(project = 'tsl-datalake', location = \"asia-south1\")"
      ]
    }
  ]
}